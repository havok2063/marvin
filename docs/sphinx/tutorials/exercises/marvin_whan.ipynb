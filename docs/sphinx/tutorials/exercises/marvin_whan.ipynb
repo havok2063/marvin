{
 "cells": [
  {
   "cell_type": "markdown",
   "metadata": {},
   "source": [
    "# Marvin Science Case Exercise\n",
    "## Create a WHAN diagram\n",
    "\n",
    "The Width of Halpha versus NII (WHAN) diagram (Cid Fernández et al. 2011, http://adsabs.harvard.edu/abs/2011MNRAS.413.1687C) can be used to classify galaxies as star-forming or quenched. Using only information of two emissions lines (H-alpha equivalent width and NII flux, both available in the DAP), it is very useful for classifying galaxies that cannot be classified using BPT diagrams due to absent absorption lines.\n",
    "\n",
    "One of the main advantages of this diagram is that you can distinguish two populations within the LI(N)ER classification in BPT: galaxies hosting a weak AGN and what they refer in the paper as ''retired galaxies'' (galaxies that are not forming stars but are ionized by hot low-mass evolved stars). So the WHAN diagram allows for the identification of galaxies in which the heating of their ionised gas is the result of old stars, rather than star formation or AGN activity.\n",
    "\n",
    "Five classes of galaxies are identified within the WHAN diagram:\n",
    "- Pure star forming galaxies: log[N ii]/Hα < −0.4 and WHα > 3 Å\n",
    "- Strong AGN (i.e., Seyferts): log[N ii]/Hα > −0.4 and WHα > 6 Å\n",
    "- Weak AGN: log[N ii]/Hα > −0.4 and WHα between 3 and 6 Å\n",
    "- Retired galaxies (i.e., fake AGN): WHα < 3 Å\n",
    "- Passive galaxies (actually, line-less galaxies): WHα and W[N ii] < 0.5 Å\n",
    "\n",
    "### Using the Marvin web Image Roulette page, choose a galaxy that is visually interesting.  Refresh the page to generate a new set of images  \n",
    "\n",
    "### Use the Marvin tools and utilities available to create a WHAN diagram for a MaNGA galaxy.  Using Marvin, create a custom galaxy map using your spaxel WHAN classificiations.  \n",
    "\n",
    "### Compare and contrast the WHAN diagrams to the galaxy's BPT diagram.         "
   ]
  },
  {
   "cell_type": "code",
   "execution_count": null,
   "metadata": {
    "collapsed": false
   },
   "outputs": [],
   "source": []
  }
 ],
 "metadata": {
  "anaconda-cloud": {},
  "kernelspec": {
   "display_name": "Python [conda root]",
   "language": "python",
   "name": "conda-root-py"
  },
  "language_info": {
   "codemirror_mode": {
    "name": "ipython",
    "version": 2
   },
   "file_extension": ".py",
   "mimetype": "text/x-python",
   "name": "python",
   "nbconvert_exporter": "python",
   "pygments_lexer": "ipython2",
   "version": "2.7.12"
  }
 },
 "nbformat": 4,
 "nbformat_minor": 2
}
