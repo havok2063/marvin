{
 "cells": [
  {
   "cell_type": "markdown",
   "metadata": {},
   "source": [
    "# Marvin query Results\n",
    "\n",
    "Now that you have performed your first query, let's take at what Marvin returns as a Marvin Results object."
   ]
  },
  {
   "cell_type": "code",
   "execution_count": null,
   "metadata": {
    "collapsed": false
   },
   "outputs": [],
   "source": [
    "from marvin import config\n",
    "config.mode='local' # 'remote'\n",
    "config.switchSasUrl('local')\n",
    "config.setRelease('MPL-4')"
   ]
  },
  {
   "cell_type": "code",
   "execution_count": null,
   "metadata": {
    "collapsed": false
   },
   "outputs": [],
   "source": [
    "from marvin.tools.query import Query, Results, doQuery\n",
    "\n",
    "# make a query\n",
    "myquery = 'nsa.sersic_logmass > 10.3 AND nsa.z < 0.1'\n",
    "q = Query(searchfilter=myquery)\n",
    " \n",
    "# run a query\n",
    "r = q.run()"
   ]
  },
  {
   "cell_type": "markdown",
   "metadata": {},
   "source": [
    "Let's look at the Marvin Results object.  We can see how many results were returned with r.count and r.totalcount"
   ]
  },
  {
   "cell_type": "code",
   "execution_count": null,
   "metadata": {
    "collapsed": false
   },
   "outputs": [],
   "source": [
    "print(r)\n",
    "print('Total count', r.totalcount)\n",
    "print('Page count', r.count)"
   ]
  },
  {
   "cell_type": "markdown",
   "metadata": {},
   "source": [
    "Queries returning more than 1000 results are paginated into chunks of 100.  For anything less than 1000, the query will return everything.  Totalcount shows the total result count, and count shows the returned count in just that page."
   ]
  },
  {
   "cell_type": "markdown",
   "metadata": {},
   "source": [
    "The results from your query are stored in the .results attribute, as a list of NamedTuples.  These are like regular tuples except they have names (like dictionary key names)"
   ]
  },
  {
   "cell_type": "code",
   "execution_count": null,
   "metadata": {
    "collapsed": false
   },
   "outputs": [],
   "source": [
    "r.results"
   ]
  },
  {
   "cell_type": "markdown",
   "metadata": {},
   "source": [
    "You can access specific values of the results through tuple indexing or via the named attribute, but this is not recommended in general."
   ]
  },
  {
   "cell_type": "code",
   "execution_count": null,
   "metadata": {
    "collapsed": false
   },
   "outputs": [],
   "source": [
    "res = r.results[0]\n",
    "print('single row', res)\n",
    "print('mangaid', res[0])\n",
    "print('mangaid', res.mangaid)\n",
    "\n",
    "# what are the names\n",
    "print('names', res.keys())\n",
    "print(res.sersic_mass)"
   ]
  },
  {
   "cell_type": "markdown",
   "metadata": {},
   "source": [
    "** But be careful ** Names using the full `table.parameter` syntax cannot be accessed via the named attribute.  This syntax is returned when two parameters with non-unique names are returned, like `ifu.name` and `bintype.name`.  Instead we recommend using the Marvin Results **getListOf** and **getDictOf** methods."
   ]
  },
  {
   "cell_type": "code",
   "execution_count": null,
   "metadata": {
    "collapsed": false
   },
   "outputs": [],
   "source": [
    "# if you want a retrieve a list of a single parameter, use getListOf\n",
    "mangaid = r.getListOf('mangaid')\n",
    "print(mangaid)"
   ]
  },
  {
   "cell_type": "markdown",
   "metadata": {},
   "source": [
    "To see what columns are available, use r.columns and r.coltoparam"
   ]
  },
  {
   "cell_type": "code",
   "execution_count": null,
   "metadata": {
    "collapsed": false
   },
   "outputs": [],
   "source": [
    "# these are the column names in the results\n",
    "print('columns', r.columns) \n",
    "\n",
    "# this is a mapping between the column and full parameter name, see also r.paramtocol for the inverse\n",
    "print('full parameter names', r.coltoparam)\n",
    "print('parameter keys', r.coltoparam.keys())\n",
    "print('parameter values', r.coltoparam.values())"
   ]
  },
  {
   "cell_type": "markdown",
   "metadata": {},
   "source": [
    "if you want to retrieve the results as a list of dictionaries or dictionary of lists, use getDictOf"
   ]
  },
  {
   "cell_type": "code",
   "execution_count": null,
   "metadata": {
    "collapsed": false
   },
   "outputs": [],
   "source": [
    "# by default, getDictOf returns a list of dictionaries, that you can iterate over\n",
    "mylist = r.getDictOf()\n",
    "print(mylist)\n",
    "print('mangaid', mylist[0]['cube.mangaid'], mylist[1]['cube.mangaid'])"
   ]
  },
  {
   "cell_type": "markdown",
   "metadata": {},
   "source": [
    "you can change the format returned using the **format_type** keyword.  **format_type='dictlist'** returns a dictionary of lists getDictOf returns a list of dictionaries"
   ]
  },
  {
   "cell_type": "code",
   "execution_count": null,
   "metadata": {
    "collapsed": false
   },
   "outputs": [],
   "source": [
    "mydict = r.getDictOf(format_type='dictlist')\n",
    "print(mydict)\n",
    "print('keys', mydict.keys())\n",
    "print('mangaid', mydict['cube.mangaid'])"
   ]
  },
  {
   "cell_type": "markdown",
   "metadata": {},
   "source": [
    "# Retrieving More Results\n",
    "If your returned results have been paginated, you can retrieve more using **r.getNext**, **r.getPrevious**, and  **r.getSubset** "
   ]
  },
  {
   "cell_type": "code",
   "execution_count": null,
   "metadata": {
    "collapsed": false
   },
   "outputs": [],
   "source": [
    "# get the next set of results\n",
    "r.getNext()"
   ]
  },
  {
   "cell_type": "code",
   "execution_count": null,
   "metadata": {
    "collapsed": false
   },
   "outputs": [],
   "source": [
    "# get only the next 10 results\n",
    "r.getNext(chunk=10)"
   ]
  },
  {
   "cell_type": "code",
   "execution_count": null,
   "metadata": {
    "collapsed": false
   },
   "outputs": [],
   "source": [
    "# get the previous 20 results\n",
    "r.getPrevious(chunk=20)"
   ]
  },
  {
   "cell_type": "code",
   "execution_count": null,
   "metadata": {
    "collapsed": false
   },
   "outputs": [],
   "source": [
    "# get a subset of results giving the starting index and number limit\n",
    "# total results\n",
    "print('total', r.totalcount)\n",
    "\n",
    "# let's get a subset of 10 rows starting at 300\n",
    "r.getSubset(300, limit=10)"
   ]
  },
  {
   "cell_type": "markdown",
   "metadata": {},
   "source": [
    "# Sorting results\n",
    "You can sort your results using the **r.sort** method.  You can sort on any of the returned columns, using either the column name or full parameter name.  "
   ]
  },
  {
   "cell_type": "code",
   "execution_count": null,
   "metadata": {
    "collapsed": false
   },
   "outputs": [],
   "source": [
    "# let's sort by redshift.  Default is in ascending order\n",
    "r.sort('z')\n",
    "\n",
    "# or in descending order\n",
    "r.sort('nsa.z', order='desc')"
   ]
  },
  {
   "cell_type": "markdown",
   "metadata": {},
   "source": [
    "# Converting to Marvin Tool Objects\n",
    "Once you have a set of results, you may want to work with them using Marvin Tools.  You can easily convert to Marvin Tools using the method **r.convertToTool**.  This method lets you convert to Marvin Cubes, Spaxels, Maps, RSS, or ModelCube objects.  **Note:** You must have the necessary parameters to initialize a particular Marvin object.  "
   ]
  },
  {
   "cell_type": "code",
   "execution_count": null,
   "metadata": {
    "collapsed": false
   },
   "outputs": [],
   "source": [
    "# See some results\n",
    "r.results[0:3]\n",
    "\n",
    "# Let's convert our results to Marvin Cube objects\n",
    "r.columns\n",
    "r.convertToTool('cube')\n",
    "\n",
    "# Your new objects are stored as a list in your results called objects\n",
    "r.objects"
   ]
  },
  {
   "cell_type": "markdown",
   "metadata": {
    "collapsed": true
   },
   "source": [
    "# Save your Results and restore them"
   ]
  },
  {
   "cell_type": "code",
   "execution_count": null,
   "metadata": {
    "collapsed": false
   },
   "outputs": [],
   "source": [
    "# We strongly recommend saving to a Marvin pickle file (.mpf), so that you can restore the Results object later\n",
    "r.save('results.mpf')\n",
    "restored = Results.restore('results.mpf')"
   ]
  },
  {
   "cell_type": "code",
   "execution_count": null,
   "metadata": {
    "collapsed": true
   },
   "outputs": [],
   "source": [
    "# Saving to CSV, JSON, xlsx, txt, or FITS\n",
    "df = r.toDataFrame()\n",
    "df.to_csv('results.csv')\n",
    "df.to_json('results.json')\n",
    "df.to_excel('results.xlsx')\n",
    "table = r.toTable()\n",
    "table.write('results.txt')\n",
    "r.toFits('results.fits')"
   ]
  },
  {
   "cell_type": "markdown",
   "metadata": {},
   "source": [
    "# Plot your Results"
   ]
  },
  {
   "cell_type": "code",
   "execution_count": null,
   "metadata": {
    "collapsed": false
   },
   "outputs": [],
   "source": [
    "%matplotlib inline\n",
    "df = r.toDataFrame()\n",
    "df.plot.scatter('nsa.sersic_logmass', 'nsa.z')"
   ]
  },
  {
   "cell_type": "code",
   "execution_count": null,
   "metadata": {
    "collapsed": true
   },
   "outputs": [],
   "source": []
  }
 ],
 "metadata": {
  "kernelspec": {
   "display_name": "Python 3",
   "language": "python",
   "name": "python3"
  },
  "language_info": {
   "codemirror_mode": {
    "name": "ipython",
    "version": 3
   },
   "file_extension": ".py",
   "mimetype": "text/x-python",
   "name": "python",
   "nbconvert_exporter": "python",
   "pygments_lexer": "ipython3",
   "version": "3.5.2"
  }
 },
 "nbformat": 4,
 "nbformat_minor": 1
}
